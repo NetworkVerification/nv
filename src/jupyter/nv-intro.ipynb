{
 "cells": [
  {
   "cell_type": "code",
   "execution_count": 1,
   "metadata": {
    "scrolled": true
   },
   "outputs": [
    {
     "name": "stdout",
     "output_type": "stream",
     "text": [
      "- : unit = ()\n",
      "Findlib has been successfully loaded. Additional directives:\n",
      "  #require \"package\";;      to load a package\n",
      "  #list;;                   to list the available packages\n",
      "  #camlp4o;;                to load camlp4 (standard syntax)\n",
      "  #camlp4r;;                to load camlp4 (revised syntax)\n",
      "  #predicates \"p,q,...\";;   to set these predicates\n",
      "  Topfind.reset();;         to force that packages will be reloaded\n",
      "  #thread;;                 to enable threads\n",
      "\n",
      "- : unit = ()\n"
     ]
    },
    {
     "name": "stderr",
     "output_type": "stream",
     "text": [
      "/opt/local/lib/ocaml/threads: added to search path\n",
      "/opt/local/lib/ocaml/unix.cma: loaded\n",
      "/opt/local/lib/ocaml/threads/threads.cma: loaded\n",
      "/Users/gian/.opam/default/lib/num: added to search path\n",
      "/Users/gian/.opam/default/lib/num/nums.cma: loaded\n",
      "/Users/gian/.opam/default/lib/num-top: added to search path\n",
      "/Users/gian/.opam/default/lib/num-top/num_top.cma: loaded\n",
      "/opt/local/lib/ocaml/bigarray.cma: loaded\n",
      "/opt/local/lib/ocaml/str.cma: loaded\n",
      "/Users/gian/.opam/default/lib/bytes: added to search path\n",
      "/Users/gian/.opam/default/lib/batteries: added to search path\n",
      "/Users/gian/.opam/default/lib/batteries/batteries.cma: loaded\n",
      "/Users/gian/.opam/default/lib/batteries/batteriesConfig.cmo: loaded\n",
      "/Users/gian/.opam/default/lib/batteries/batteriesHelp.cmo: loaded\n",
      "/Users/gian/.opam/default/lib/batteries/batteriesPrint.cmo: loaded\n",
      "/Users/gian/.opam/default/lib/batteries/batteriesThread.cma: loaded\n",
      "/Users/gian/.opam/default/lib/batteries/batteriesThread.cma: loaded\n",
      "/Users/gian/.opam/default/lib/cudd: added to search path\n",
      "/Users/gian/.opam/default/lib/cudd/cudd.cma: loaded\n",
      "/Users/gian/.opam/default/lib/integers: added to search path\n",
      "/Users/gian/.opam/default/lib/integers/integers.cma: loaded\n",
      "/Users/gian/.opam/default/lib/result: added to search path\n",
      "/Users/gian/.opam/default/lib/result/result.cma: loaded\n",
      "/Users/gian/.opam/default/lib/ppx_deriving/runtime: added to search path\n",
      "/Users/gian/.opam/default/lib/ppx_deriving/runtime/ppx_deriving_runtime.cma: loaded\n",
      "/Users/gian/.opam/default/lib/ppx_deriving_yojson/runtime: added to search path\n",
      "/Users/gian/.opam/default/lib/ppx_deriving_yojson/runtime/ppx_deriving_yojson_runtime.cma: loaded\n",
      "/Users/gian/.opam/default/lib/uuidm: added to search path\n",
      "/Users/gian/.opam/default/lib/uuidm/uuidm.cma: loaded\n",
      "/Users/gian/.opam/default/lib/easy-format: added to search path\n",
      "/Users/gian/.opam/default/lib/easy-format/easy_format.cma: loaded\n",
      "/Users/gian/.opam/default/lib/biniou: added to search path\n",
      "/Users/gian/.opam/default/lib/biniou/biniou.cma: loaded\n",
      "/Users/gian/.opam/default/lib/yojson: added to search path\n",
      "/Users/gian/.opam/default/lib/yojson/yojson.cma: loaded\n",
      "/Users/gian/.opam/default/lib/jupyter: added to search path\n",
      "/Users/gian/.opam/default/lib/jupyter/jupyter.cma: loaded\n",
      "/Users/gian/.opam/default/lib/base64: added to search path\n",
      "/Users/gian/.opam/default/lib/base64/base64.cma: loaded\n",
      "/opt/local/lib/ocaml/compiler-libs: added to search path\n",
      "/opt/local/lib/ocaml/compiler-libs/ocamlcommon.cma: loaded\n",
      "/Users/gian/.opam/default/lib/jupyter/notebook: added to search path\n",
      "/Users/gian/.opam/default/lib/jupyter/notebook/jupyter_notebook.cma: loaded\n",
      "/Users/gian/.opam/default/lib/jupyter/comm: added to search path\n",
      "/Users/gian/.opam/default/lib/jupyter/comm/jupyter_comm.cma: loaded\n",
      "/Users/gian/.opam/default/lib/lru-cache: added to search path\n",
      "/Users/gian/.opam/default/lib/lru-cache/lru-cache.cma: loaded\n",
      "/Users/gian/.opam/default/lib/findlib: added to search path\n",
      "/Users/gian/.opam/default/lib/findlib/findlib.cma: loaded\n",
      "/Users/gian/.opam/default/lib/findlib/findlib_top.cma: loaded\n",
      "/opt/local/lib/ocaml/dynlink.cma: loaded\n",
      "/Users/gian/.opam/default/lib/findlib/findlib_dynload.cma: loaded\n",
      "/Users/gian/.opam/default/lib/fix: added to search path\n",
      "/Users/gian/.opam/default/lib/fix/fix.cma: loaded\n",
      "/Users/gian/.opam/default/lib/nv_lib/utils: added to search path\n",
      "/Users/gian/.opam/default/lib/nv_lib/utils/nv_utils.cma: loaded\n",
      "/Users/gian/.opam/default/lib/ocamlgraph: added to search path\n",
      "/Users/gian/.opam/default/lib/ocamlgraph/graph.cma: loaded\n",
      "/Users/gian/.opam/default/lib/zarith: added to search path\n",
      "/Users/gian/.opam/default/lib/zarith/zarith.cma: loaded\n",
      "/Users/gian/.opam/default/lib/nv_lib/datastructures: added to search path\n",
      "/Users/gian/.opam/default/lib/nv_lib/datastructures/nv_datastructures.cma: loaded\n",
      "/Users/gian/.opam/default/lib/ANSITerminal: added to search path\n",
      "/Users/gian/.opam/default/lib/ANSITerminal/ANSITerminal.cma: loaded\n",
      "/Users/gian/.opam/default/lib/stdlib-shims: added to search path\n",
      "/Users/gian/.opam/default/lib/stdlib-shims/stdlib_shims.cma: loaded\n",
      "/Users/gian/.opam/default/lib/fileutils: added to search path\n",
      "/Users/gian/.opam/default/lib/fileutils/fileutils.cma: loaded\n",
      "/Users/gian/.opam/default/lib/nv_lib/lang: added to search path\n",
      "/Users/gian/.opam/default/lib/nv_lib/lang/nv_lang.cma: loaded\n",
      "/Users/gian/.opam/default/lib/nv_lib/interpreter: added to search path\n",
      "/Users/gian/.opam/default/lib/nv_lib/interpreter/nv_interpreter.cma: loaded\n",
      "/Users/gian/.opam/default/lib/nv_lib/solution: added to search path\n",
      "/Users/gian/.opam/default/lib/nv_lib/solution/nv_solution.cma: loaded\n",
      "/Users/gian/.opam/default/lib/nv_lib/compile: added to search path\n",
      "/Users/gian/.opam/default/lib/nv_lib/compile/nv_compile.cma: loaded\n",
      "/Users/gian/.opam/default/lib/parmap: added to search path\n",
      "/Users/gian/.opam/default/lib/parmap/parmap.cma: loaded\n",
      "/Users/gian/.opam/default/lib/nv_lib/transformations: added to search path\n",
      "/Users/gian/.opam/default/lib/nv_lib/transformations/nv_transformations.cma: loaded\n",
      "/Users/gian/.opam/default/lib/nv_lib/compression: added to search path\n",
      "/Users/gian/.opam/default/lib/nv_lib/compression/nv_compression.cma: loaded\n",
      "/Users/gian/.opam/default/lib/nv_lib/smt: added to search path\n",
      "/Users/gian/.opam/default/lib/nv_lib/smt/nv_smt.cma: loaded\n",
      "/Users/gian/.opam/default/lib/nv_lib: added to search path\n",
      "/Users/gian/.opam/default/lib/nv_lib/nv_lib.cma: loaded\n",
      "/Users/gian/.opam/default/lib/nv_jupyter: added to search path\n",
      "/Users/gian/.opam/default/lib/nv_jupyter/nv_jupyter.cma: loaded\n",
      "/Users/gian/.opam/default/lib/result: added to search path\n",
      "/Users/gian/.opam/default/lib/ppx_deriving/runtime: added to search path\n",
      "/Users/gian/.opam/default/lib/ppx_deriving_yojson/runtime: added to search path\n",
      "/Users/gian/.opam/default/lib/bytes: added to search path\n",
      "/Users/gian/.opam/default/lib/uuidm: added to search path\n",
      "/Users/gian/.opam/default/lib/easy-format: added to search path\n",
      "/Users/gian/.opam/default/lib/biniou: added to search path\n",
      "/Users/gian/.opam/default/lib/yojson: added to search path\n",
      "/Users/gian/.opam/default/lib/jupyter: added to search path\n",
      "/Users/gian/.opam/default/lib/base64: added to search path\n",
      "/opt/local/lib/ocaml/compiler-libs: added to search path\n",
      "/Users/gian/.opam/default/lib/jupyter/notebook: added to search path\n",
      "/Users/gian/.opam/default/lib/jupyter/comm: added to search path\n"
     ]
    }
   ],
   "source": [
    "#use \"topfind\";;\n",
    "#thread;;\n",
    "#require \"nv_jupyter\"\n",
    "#require \"jupyter\"\n",
    "#require \"jupyter.notebook\"\n",
    "#require\"jupyter.comm\"\n",
    "open Nv_jupyter.Driver;;\n",
    "open Nv_jupyter.Show;;\n",
    "open Nv_solution;;"
   ]
  },
  {
   "cell_type": "markdown",
   "metadata": {},
   "source": [
    "# NV: An intermediate language for network verification\n",
    "\n",
    "NV is a functional language designed for modelling and verification of a network's routing behavior. Some of the design goals for NV are:\n",
    "* Expressiveness. One should be able to express the semantics of common routing protocols such as BGP in a sufficiently detailed manner. At the same time, one should be able to express abstractions of protocols that are useful for verification.\n",
    "* Tractable. NV's language constructs and semantics are chosen in a fashion that enables efficient verification, either through execution or using SMT solvers.\n",
    "* Compact language, well-defined semantics. Having a small language, with conventional and hence well understood semantics simplifies rapid development and the maintenance of analyses.\n",
    "\n",
    "## Modelling the control plane\n",
    "\n",
    "To learn how to route traffic to different destinations (typically, IP prefixes) routers often rely on distributed routing protocols. According to these protocols, routers exchange *routing messages* (aka routes) containing information about a path to a given destination. Eventually, each router will select the *best* route among the ones it received; the route ranking algorithm depends on the protocol.\n",
    "\n",
    "To define how a protocol works, one has to define the ingridients above:\n",
    "1. The type (i.e. the components) of the routing messages exchanged\n",
    "2. A *transfer function* defining how routes are transformed as they are propagated through the network.\n",
    "3. A *merge function* defining how a router compares two routes to select the best one.\n",
    "\n",
    "For instance, we can model BGP routes for a single destination as an optional record of 5 components. Lack of a value denotes the lack of a route. In the simple case, BGP will just increment the path length by 1. To implement more sophisticated routing policy a user may apply different changes to a route for each edge in the network.\n",
    "\n",
    "The merge function simple selects the best route according to BGP's specification (i.e. higher local-pref, then shortest path, then lower med).\n",
    "\n",
    "Below is an example of an NV program representing a hijack analysis over a network running BGP. In this network, node 4 (the purple node) announces a symbolic (i.e. an unknown) route and we want to see whether it can drive traffic away from the blue nodes which represent our network.\n",
    "<img src=\"hijack.png\" width=\"200\"/>"
   ]
  },
  {
   "cell_type": "markdown",
   "metadata": {},
   "source": [
    "```ocaml\n",
    "type bgp = {length:int;\n",
    "            lp:int;\n",
    "            med:int;\n",
    "            comms:set[int];\n",
    "            origin: tnode}\n",
    "\n",
    "type attribute = option[bgp]\n",
    "\n",
    "let nodes = 5\n",
    "let edges = {0=1;0=2;1=4;2=4;1=3;2=3;}\n",
    "\n",
    "symbolic route : option[bgp]\n",
    "\n",
    "let init (u : tnode) = match u with\n",
    "| 0n -> Some {length=0; lp=100; med=80; comms={}; origin=0n}\n",
    "| 4n -> route\n",
    "| _ -> None\n",
    "\n",
    "let trans (e: tedge) x =\n",
    "  match x with\n",
    "  | None -> None\n",
    "  | Some b -> Some {b with length = b.length+1}\n",
    "\n",
    "let isBetter x y =\n",
    "  match (x,y) with\n",
    "  | (None, _) -> false\n",
    "  | (_, None) -> true\n",
    "  | (Some b1, Some b2) ->\n",
    "    if b1.lp > b2.lp then true\n",
    "    else if b2.lp > b1.lp then false\n",
    "    else if b1.length < b2.length then true\n",
    "    else if b2.length < b1.length then false\n",
    "    else if b1.med <= b2.med then true else false\n",
    "\n",
    "let merge (u: tnode) x y =\n",
    "  if isBetter x y then x else y\n",
    "\n",
    "let assert (u : tnode) x =\n",
    "  match x with\n",
    "  | None -> false\n",
    "  | Some b -> if !(u = 4n) then b.origin = 0n else true\n",
    "\n",
    "```"
   ]
  },
  {
   "cell_type": "markdown",
   "metadata": {},
   "source": [
    "We assert that for every node in our network the origin of the selected route should be node 0.\n",
    "A simulation-based approach requires fixing the symbolic route to a single concrete route and hence verification is not under \"all possible incoming routes\". If no concrete value is specified for a symbolic value, NV will use a default value based on the type of the symbolic (in this case, the default value is ```None```)."
   ]
  },
  {
   "cell_type": "code",
   "execution_count": 2,
   "metadata": {},
   "outputs": [
    {
     "data": {
      "text/plain": [
       "val bgpExample : string =\n",
       "  \"/Users/gian/Documents/Princeton/networks/davidnv/nv/examples/bgp-paper.nv\"\n"
      ]
     },
     "execution_count": 2,
     "metadata": {},
     "output_type": "execute_result"
    },
    {
     "name": "stdout",
     "output_type": "stream",
     "text": [
      "Processing /Users/gian/Documents/Princeton/networks/davidnv/nv/examples/bgp-paper.nv\n",
      "Inlining took: 0.000546 secs to complete\n",
      "Interpreted simulation took: 0.001544 secs to complete\n"
     ]
    },
    {
     "data": {
      "text/plain": [
       "val bgpSol : Nv_solution.Solution.t option =\n",
       "  Some\n",
       "   {Nv_solution.Solution.symbolics = <abstr>; labels = <abstr>;\n",
       "    assertions = Some <abstr>; mask = None}\n"
      ]
     },
     "execution_count": 2,
     "metadata": {},
     "output_type": "execute_result"
    },
    {
     "data": {
      "text/html": [
       "<font color=\"green\">All assertions passed!</font>"
      ]
     },
     "metadata": {},
     "output_type": "display_data"
    },
    {
     "data": {
      "text/plain": [
       "- : Jupyter_notebook.display_id = <abstr>\n"
      ]
     },
     "execution_count": 2,
     "metadata": {},
     "output_type": "execute_result"
    }
   ],
   "source": [
    "let bgpExample = \"/Users/gian/Documents/Princeton/networks/davidnv/nv/examples/bgp-paper.nv\"\n",
    "let bgpSol = compute [|\"-inline\";\"-simulate\"; |] bgpExample\n",
    "let _ = checkAssertions bgpSol"
   ]
  },
  {
   "cell_type": "code",
   "execution_count": 3,
   "metadata": {
    "scrolled": true
   },
   "outputs": [
    {
     "data": {
      "text/html": [
       "<h3>Node 0</h3> <hr style=\"border-top: 1px solid #999; width=90%;\">Some {comms = {}; length = 0u32; lp = 100u32; med = 80u32; origin = 0n; }<h3>Node 1</h3> <hr style=\"border-top: 1px solid #999; width=90%;\">Some {comms = {}; length = 1u32; lp = 100u32; med = 80u32; origin = 0n; }<h3>Node 2</h3> <hr style=\"border-top: 1px solid #999; width=90%;\">Some {comms = {}; length = 1u32; lp = 100u32; med = 80u32; origin = 0n; }<h3>Node 3</h3> <hr style=\"border-top: 1px solid #999; width=90%;\">Some {comms = {}; length = 2u32; lp = 100u32; med = 80u32; origin = 0n; }<h3>Node 4</h3> <hr style=\"border-top: 1px solid #999; width=90%;\">Some {comms = {}; length = 2u32; lp = 100u32; med = 80u32; origin = 0n; }"
      ]
     },
     "metadata": {},
     "output_type": "display_data"
    },
    {
     "data": {
      "text/plain": [
       "- : Jupyter_notebook.display_id = <abstr>\n"
      ]
     },
     "execution_count": 3,
     "metadata": {},
     "output_type": "execute_result"
    }
   ],
   "source": [
    "let _ = showSolutions bgpSol"
   ]
  },
  {
   "cell_type": "markdown",
   "metadata": {},
   "source": [
    "### Using the SMT for exhaustive verification\n",
    "\n",
    "The NV simulator did not find a counterexample in the above case.\n",
    "However, that does not mean that our network is \"safe\". In the presence of \"unknown\" factors, such as routes from external peers, verification is best done using an SMT-based approach. In this case, we will verify that the assertion holds against any possible route announced by node 4."
   ]
  },
  {
   "cell_type": "code",
   "execution_count": 4,
   "metadata": {},
   "outputs": [
    {
     "name": "stdout",
     "output_type": "stream",
     "text": [
      "Processing /Users/gian/Documents/Princeton/networks/davidnv/nv/examples/bgp-paper.nv\n",
      "Inlining took: 0.000756 secs to complete\n",
      "Map unrolling took: 0.001392 secs to complete\n",
      "Inlining took: 0.000137 secs to complete\n",
      "Unbox options took: 0.000666 secs to complete\n",
      "Flattening Tuples took: 0.001299 secs to complete\n",
      "Partially Evaluating Network took: 0.001542 secs to complete\n",
      "Encoding network took: 0.182708 secs to complete\n",
      "Compiling query took: 0.006450 secs to complete\n",
      "Z3 stats:\n",
      "  :memory              3.39\n",
      " :time                0.02)\n",
      "Slice 0 took: 0.240254 secs to complete\n"
     ]
    },
    {
     "data": {
      "text/plain": [
       "val bgpSol : Nv_solution.Solution.t option =\n",
       "  Some\n",
       "   {Nv_solution.Solution.symbolics = <abstr>; labels = <abstr>;\n",
       "    assertions = Some <abstr>; mask = None}\n"
      ]
     },
     "execution_count": 4,
     "metadata": {},
     "output_type": "execute_result"
    },
    {
     "data": {
      "text/html": [
       "<table style=\"border: 1px solid black; border-collapse: collapse;\"><tr style=\"text-align: center; border: 1px solid black; border-collapse: collapse;\"><th style=\"text-align: center; border: 1px solid black; border-collapse: collapse;\">Symbolic</th><th style=\"text-align: center; border: 1px solid black; border-collapse: collapse;\">Concrete Value</th></tr><tr style=\"text-align: center; border: 1px solid black; border-collapse: collapse;\"><td style=\"text-align: center; border: 1px solid black; border-collapse: collapse;\">route</td><td style=\"text-align: center; border: 1px solid black; border-collapse: collapse;\">Some {comms = {}; length = 0u32; lp = 100u32; med = 80u32; origin = 8366u32; }</td></tr></table><table style=\"border: 1px solid black; border-collapse: collapse;\"><tr style=\"text-align: center; border: 1px solid black; border-collapse: collapse;\"><th style=\"text-align: center; border: 1px solid black; border-collapse: collapse;\">Assertion</th><th style=\"text-align: center; border: 1px solid black; border-collapse: collapse;\">Nodes</th></tr><tr style=\"background-color: #addeaa;\"><td style=\"text-align: center; border: 1px solid black; border-collapse: collapse;\">Passed</td><td style=\"text-align: center; border: 1px solid black; border-collapse: collapse;\">0,4</td></tr><tr style=\"background-color: #deaeaa;\"><td style=\"text-align: center; border: 1px solid black; border-collapse: collapse;\">Failed</td><td style=\"text-align: center; border: 1px solid black; border-collapse: collapse;\">1,2,3</td></tr></table>"
      ]
     },
     "metadata": {},
     "output_type": "display_data"
    },
    {
     "data": {
      "text/plain": [
       "- : Jupyter_notebook.display_id = <abstr>\n"
      ]
     },
     "execution_count": 4,
     "metadata": {},
     "output_type": "execute_result"
    }
   ],
   "source": [
    "let bgpSol = compute [|\"-inline\";\"-smt\"; |] bgpExample\n",
    "let _ = checkAssertions bgpSol"
   ]
  },
  {
   "cell_type": "markdown",
   "metadata": {},
   "source": [
    "We can also display the solutions the SMT solver computed to better understand what's going on."
   ]
  },
  {
   "cell_type": "code",
   "execution_count": 11,
   "metadata": {},
   "outputs": [
    {
     "data": {
      "text/html": [
       "<table style=\"border: 1px solid black; border-collapse: collapse;\"><tr style=\"text-align: center; border: 1px solid black; border-collapse: collapse;\"><th style=\"text-align: center; border: 1px solid black; border-collapse: collapse;\">Node</th><th style=\"text-align: center; border: 1px solid black; border-collapse: collapse;\">Solution</th></tr><tr style=\"text-align: center; border: 1px solid black; border-collapse: collapse;\"><td style=\"text-align: center; border: 1px solid black; border-collapse: collapse;\">0</td><td style=\"text-align: center; border: 1px solid black; border-collapse: collapse;\">Some {comms = {}; length = 0u32; lp = 100u32; med = 80u32; origin = 0u32; }</td></tr><tr style=\"text-align: center; border: 1px solid black; border-collapse: collapse;\"><td style=\"text-align: center; border: 1px solid black; border-collapse: collapse;\">1</td><td style=\"text-align: center; border: 1px solid black; border-collapse: collapse;\">Some {comms = {}; length = 1u32; lp = 100u32; med = 80u32; origin = 8366u32; }</td></tr><tr style=\"text-align: center; border: 1px solid black; border-collapse: collapse;\"><td style=\"text-align: center; border: 1px solid black; border-collapse: collapse;\">2</td><td style=\"text-align: center; border: 1px solid black; border-collapse: collapse;\">Some {comms = {}; length = 1u32; lp = 100u32; med = 80u32; origin = 8366u32; }</td></tr><tr style=\"text-align: center; border: 1px solid black; border-collapse: collapse;\"><td style=\"text-align: center; border: 1px solid black; border-collapse: collapse;\">3</td><td style=\"text-align: center; border: 1px solid black; border-collapse: collapse;\">Some {comms = {}; length = 2u32; lp = 100u32; med = 80u32; origin = 8366u32; }</td></tr><tr style=\"text-align: center; border: 1px solid black; border-collapse: collapse;\"><td style=\"text-align: center; border: 1px solid black; border-collapse: collapse;\">4</td><td style=\"text-align: center; border: 1px solid black; border-collapse: collapse;\">Some {comms = {}; length = 0u32; lp = 100u32; med = 80u32; origin = 8366u32; }</td></tr></table>"
      ]
     },
     "metadata": {},
     "output_type": "display_data"
    },
    {
     "data": {
      "text/plain": [
       "- : Jupyter_notebook.display_id = <abstr>\n"
      ]
     },
     "execution_count": 11,
     "metadata": {},
     "output_type": "execute_result"
    }
   ],
   "source": [
    "showSolutions ~asTable:true bgpSol"
   ]
  },
  {
   "cell_type": "markdown",
   "metadata": {},
   "source": [
    "## Modelling the data plane\n",
    "\n",
    "Beyond the control plane, it would be interesting to model other parts of the networking stack and compose the analyses to provide stronger end-to-end guarantees. Towards this goal, we are working on building a model of the dataplane as well.\n",
    "\n",
    "We start with a basic model of the dataplane as an instance of the stable paths problem. In this instance of SPP:\n",
    "- The type of \"information\" exchanged is sets of packets. \n",
    "- A packet is forwarded over an edge if: 1. according to the FIB of the node, this edge is the forwarding edge for the packet's destination, 2. there are no ACLs installed that prevent forwarding this packet. \n",
    "- Merging the information received from two different nodes simple amounts to taking the union of the sets.\n",
    "\n",
    "The above SPP essentially computes for each node the packets that traversed it.\n",
    "\n",
    "```ocaml\n",
    "type prefix = (int,int)\n",
    "type packet = {srcIp:prefix; dstIp:prefix}\n",
    "type attribute = set[packet]\n",
    "\n",
    "symbolic fib : ...\n",
    "\n",
    "let trans e ps = \n",
    "  mapIte (fun p -> isForwarding e fib p.dstIp) (fun v -> true) (fun v -> false) ps\n",
    "  \n",
    "let merge u xs ys = xs union ys\n",
    "```\n",
    "\n",
    "  "
   ]
  },
  {
   "cell_type": "markdown",
   "metadata": {},
   "source": [
    "```ocaml\n",
    "include \"utils.nv\"\n",
    "\n",
    "type prefix = (int,int)\n",
    "\n",
    "type bgp = { nexthop: option[tedge];\n",
    "             bgpad : int;\n",
    "             lp : int;\n",
    "             cost : int; }\n",
    "type ribEntry = option[bgp]\n",
    "\n",
    "type packet = { srcIp: int; dstIp: int; }\n",
    "type packets = set[packet]\n",
    "\n",
    "type attr = {dataplane:packets; controlplane:dict[prefix,ribEntry];}\n",
    "type attribute = attr\n",
    "\n",
    "let nodes = 4\n",
    "\n",
    "let edges = {\n",
    "  0=1;\n",
    "  0=2;\n",
    "  1=3;\n",
    "  2=3;\n",
    " }\n",
    "\n",
    "(* Data Plane functions *)\n",
    "let mergePackets node x y = x union y\n",
    "\n",
    "(* longestMatchingPrefix, should check whether p's headers match an\n",
    "   entry in the rib and whether edge is the forwarding edge on that rib *)\n",
    "let longestMatchingPrefix edge p rib =\n",
    "  let dst = p.dstIp in\n",
    "  match rib[(dst,32)] with\n",
    "  | None -> false (*repeat 32 times...*)\n",
    "  | Some route ->\n",
    "    (match route.nexthop with\n",
    "    | None -> false\n",
    "    | Some fwd ->\n",
    "     fwd = edge)\n",
    "\n",
    "(* filter the set of packets *)\n",
    "let transPackets edge rib ps =\n",
    "  mapIf (fun p -> !(longestMatchingPrefix edge p rib)) (fun b -> false) ps\n",
    "\n",
    "let initPackets node =\n",
    "  match node with\n",
    "  | 3n -> {{ srcIp = 1; dstIp=0; }}\n",
    "  | _ -> {}\n",
    "\n",
    "let transRoute edge b =\n",
    "    match b with\n",
    "    | None -> None\n",
    "    | Some b ->\n",
    "         Some ({nexthop= flipEdge edge; cost = b.cost + 1; bgpad=b.bgpad; lp=b.lp})\n",
    "\n",
    "(* bgp attributes comparison *)\n",
    "let betterBgp o1 o2 =\n",
    "  if o1.lp > o2.lp then true\n",
    "  else if o2.lp > o1.lp then false\n",
    "  else if o1.cost < o2.cost then true\n",
    "  else false\n",
    "\n",
    "let pickOption f x y =\n",
    "  match (x,y) with\n",
    "  | (None, None) -> None\n",
    "  | (None, Some _) -> y  | (Some _, None) -> x\n",
    "  | (Some a, Some b) ->\n",
    "    Some (if f a b then a else b)\n",
    "\n",
    "let mergeRoute lab1 lab2 =\n",
    "  pickOption (fun x y -> betterBgp x y) lab1 lab2\n",
    "\n",
    "let initRoute node =\n",
    "  let d = createDict None in\n",
    "  match node with\n",
    "  | 0n ->\n",
    "     let b0 = {nexthop=None; bgpad=20; lp=100; cost=0;} in\n",
    "     d[(0,32) := Some b0]\n",
    "  | _ -> d\n",
    "\n",
    "(* Combined functions *)\n",
    "\n",
    "let merge node x y =\n",
    "  let psx = x.dataplane in\n",
    "  let psy = y.dataplane in\n",
    "  let labx = x.controlplane in\n",
    "  let laby = y.controlplane in\n",
    "  {dataplane=mergePackets node psx psy;\n",
    "   controlplane=combine mergeRoute labx laby}\n",
    "\n",
    "let trans edge x =\n",
    "  let ps = x.dataplane in\n",
    "  let rib = x.controlplane in\n",
    "  {dataplane = transPackets edge rib ps;\n",
    "   controlplane = map (transRoute edge) rib}\n",
    "\n",
    "let init node =\n",
    "  {dataplane = initPackets node;\n",
    "   controlplane = initRoute node}\n",
    "\n",
    "let assert node x =\n",
    "  match node with\n",
    "  | 1n ->\n",
    "     (\n",
    "       let ps = x.dataplane in\n",
    "       match ps[{ srcIp = 1; dstIp=0; }] with\n",
    "       | true ->\n",
    "          true\n",
    "       | false -> false)\n",
    "  | _ -> true\n",
    "```"
   ]
  },
  {
   "cell_type": "code",
   "execution_count": 13,
   "metadata": {
    "scrolled": true
   },
   "outputs": [
    {
     "data": {
      "text/plain": [
       "val dataplaneExample : string =\n",
       "  \"/Users/gian/Documents/Princeton/networks/davidnv/nv/examples/dataplane.nv\"\n"
      ]
     },
     "execution_count": 13,
     "metadata": {},
     "output_type": "execute_result"
    },
    {
     "name": "stdout",
     "output_type": "stream",
     "text": [
      "Processing /Users/gian/Documents/Princeton/networks/davidnv/nv/examples/dataplane.nv\n",
      "Processing /Users/gian/Documents/Princeton/networks/davidnv/nv/examples/utils.nv\n",
      "Inlining took: 0.002044 secs to complete\n",
      "Interpreted simulation took: 0.019620 secs to complete\n"
     ]
    },
    {
     "data": {
      "text/plain": [
       "val dataplaneSol : Nv_solution.Solution.t option =\n",
       "  Some\n",
       "   {Nv_solution.Solution.symbolics = <abstr>; labels = <abstr>;\n",
       "    assertions = Some <abstr>; mask = None}\n"
      ]
     },
     "execution_count": 13,
     "metadata": {},
     "output_type": "execute_result"
    }
   ],
   "source": [
    "let dataplaneExample = \"/Users/gian/Documents/Princeton/networks/davidnv/nv/examples/dataplane.nv\"\n",
    "let dataplaneSol = compute [|\"-inline\";\"-simulate\"|] dataplaneExample"
   ]
  },
  {
   "cell_type": "code",
   "execution_count": 14,
   "metadata": {},
   "outputs": [
    {
     "name": "stderr",
     "output_type": "stream",
     "text": [
      "File \"[14]\", line 1, characters 0-28:\n",
      "Warning 10: this expression should have type unit.\n"
     ]
    },
    {
     "data": {
      "text/html": [
       "<font color=\"green\">All assertions passed!</font>"
      ]
     },
     "metadata": {},
     "output_type": "display_data"
    },
    {
     "name": "stderr",
     "output_type": "stream",
     "text": [
      "File \"[14]\", line 1, characters 0-28:\n",
      "Warning 10: this expression should have type unit.\n"
     ]
    },
    {
     "data": {
      "text/html": [
       "<table style=\"border: 1px solid black; border-collapse: collapse;\"><tr style=\"text-align: center; border: 1px solid black; border-collapse: collapse;\"><th style=\"text-align: center; border: 1px solid black; border-collapse: collapse;\">Node</th><th style=\"text-align: center; border: 1px solid black; border-collapse: collapse;\">Solution</th></tr><tr style=\"text-align: center; border: 1px solid black; border-collapse: collapse;\"><td style=\"text-align: center; border: 1px solid black; border-collapse: collapse;\">0</td><td style=\"text-align: center; border: 1px solid black; border-collapse: collapse;\"><table style=\"border: 1px solid black; border-collapse: collapse;\"><tr style=\"text-align: center; border: 1px solid black; border-collapse: collapse;\"><th style=\"text-align: center; border: 1px solid black; border-collapse: collapse;\">controlplane</th><th style=\"text-align: center; border: 1px solid black; border-collapse: collapse;\">dataplane</th></tr><tr style=\"text-align: center; border: 1px solid black; border-collapse: collapse;\"><td style=\"text-align: center; border: 1px solid black; border-collapse: collapse;\"><table style=\"border: 1px solid black; border-collapse: collapse;\"><tr style=\"text-align: center; border: 1px solid black; border-collapse: collapse;\"><td style=\"text-align: center; border: 1px solid black; border-collapse: collapse;\">(0u32,32u32)</td><td style=\"text-align: center; border: 1px solid black; border-collapse: collapse;\">Some {bgpad = 20u32; cost = 0u32; lp = 100u32; nexthop = None; }</td></tr><tr style=\"text-align: center; border: 1px solid black; border-collapse: collapse;\"><td style=\"text-align: center; border: 1px solid black; border-collapse: collapse;\">*</td><td style=\"text-align: center; border: 1px solid black; border-collapse: collapse;\">None</td></tr></table></td><td style=\"text-align: center; border: 1px solid black; border-collapse: collapse;\">{(0u32,1u32)}</td></tr></table></td></tr><tr style=\"text-align: center; border: 1px solid black; border-collapse: collapse;\"><td style=\"text-align: center; border: 1px solid black; border-collapse: collapse;\">1</td><td style=\"text-align: center; border: 1px solid black; border-collapse: collapse;\"><table style=\"border: 1px solid black; border-collapse: collapse;\"><tr style=\"text-align: center; border: 1px solid black; border-collapse: collapse;\"><th style=\"text-align: center; border: 1px solid black; border-collapse: collapse;\">controlplane</th><th style=\"text-align: center; border: 1px solid black; border-collapse: collapse;\">dataplane</th></tr><tr style=\"text-align: center; border: 1px solid black; border-collapse: collapse;\"><td style=\"text-align: center; border: 1px solid black; border-collapse: collapse;\"><table style=\"border: 1px solid black; border-collapse: collapse;\"><tr style=\"text-align: center; border: 1px solid black; border-collapse: collapse;\"><td style=\"text-align: center; border: 1px solid black; border-collapse: collapse;\">(0u32,32u32)</td><td style=\"text-align: center; border: 1px solid black; border-collapse: collapse;\">Some {bgpad = 20u32; cost = 1u32; lp = 100u32; nexthop = Some 1~0; }</td></tr><tr style=\"text-align: center; border: 1px solid black; border-collapse: collapse;\"><td style=\"text-align: center; border: 1px solid black; border-collapse: collapse;\">*</td><td style=\"text-align: center; border: 1px solid black; border-collapse: collapse;\">None</td></tr></table></td><td style=\"text-align: center; border: 1px solid black; border-collapse: collapse;\">{(0u32,1u32)}</td></tr></table></td></tr><tr style=\"text-align: center; border: 1px solid black; border-collapse: collapse;\"><td style=\"text-align: center; border: 1px solid black; border-collapse: collapse;\">2</td><td style=\"text-align: center; border: 1px solid black; border-collapse: collapse;\"><table style=\"border: 1px solid black; border-collapse: collapse;\"><tr style=\"text-align: center; border: 1px solid black; border-collapse: collapse;\"><th style=\"text-align: center; border: 1px solid black; border-collapse: collapse;\">controlplane</th><th style=\"text-align: center; border: 1px solid black; border-collapse: collapse;\">dataplane</th></tr><tr style=\"text-align: center; border: 1px solid black; border-collapse: collapse;\"><td style=\"text-align: center; border: 1px solid black; border-collapse: collapse;\"><table style=\"border: 1px solid black; border-collapse: collapse;\"><tr style=\"text-align: center; border: 1px solid black; border-collapse: collapse;\"><td style=\"text-align: center; border: 1px solid black; border-collapse: collapse;\">(0u32,32u32)</td><td style=\"text-align: center; border: 1px solid black; border-collapse: collapse;\">Some {bgpad = 20u32; cost = 1u32; lp = 100u32; nexthop = Some 2~0; }</td></tr><tr style=\"text-align: center; border: 1px solid black; border-collapse: collapse;\"><td style=\"text-align: center; border: 1px solid black; border-collapse: collapse;\">*</td><td style=\"text-align: center; border: 1px solid black; border-collapse: collapse;\">None</td></tr></table></td><td style=\"text-align: center; border: 1px solid black; border-collapse: collapse;\">{}</td></tr></table></td></tr><tr style=\"text-align: center; border: 1px solid black; border-collapse: collapse;\"><td style=\"text-align: center; border: 1px solid black; border-collapse: collapse;\">3</td><td style=\"text-align: center; border: 1px solid black; border-collapse: collapse;\"><table style=\"border: 1px solid black; border-collapse: collapse;\"><tr style=\"text-align: center; border: 1px solid black; border-collapse: collapse;\"><th style=\"text-align: center; border: 1px solid black; border-collapse: collapse;\">controlplane</th><th style=\"text-align: center; border: 1px solid black; border-collapse: collapse;\">dataplane</th></tr><tr style=\"text-align: center; border: 1px solid black; border-collapse: collapse;\"><td style=\"text-align: center; border: 1px solid black; border-collapse: collapse;\"><table style=\"border: 1px solid black; border-collapse: collapse;\"><tr style=\"text-align: center; border: 1px solid black; border-collapse: collapse;\"><td style=\"text-align: center; border: 1px solid black; border-collapse: collapse;\">(0u32,32u32)</td><td style=\"text-align: center; border: 1px solid black; border-collapse: collapse;\">Some {bgpad = 20u32; cost = 2u32; lp = 100u32; nexthop = Some 3~1; }</td></tr><tr style=\"text-align: center; border: 1px solid black; border-collapse: collapse;\"><td style=\"text-align: center; border: 1px solid black; border-collapse: collapse;\">*</td><td style=\"text-align: center; border: 1px solid black; border-collapse: collapse;\">None</td></tr></table></td><td style=\"text-align: center; border: 1px solid black; border-collapse: collapse;\">{(0u32,1u32)}</td></tr></table></td></tr></table>"
      ]
     },
     "metadata": {},
     "output_type": "display_data"
    },
    {
     "data": {
      "text/plain": [
       "- : Jupyter_notebook.display_id = <abstr>\n"
      ]
     },
     "execution_count": 14,
     "metadata": {},
     "output_type": "execute_result"
    }
   ],
   "source": [
    "checkAssertions dataplaneSol;\n",
    "showSolutions ~asTable:true dataplaneSol"
   ]
  },
  {
   "cell_type": "code",
   "execution_count": 54,
   "metadata": {},
   "outputs": [
    {
     "data": {
      "text/plain": [
       "val file : string ref = {contents = \"\"}\n"
      ]
     },
     "execution_count": 54,
     "metadata": {},
     "output_type": "execute_result"
    },
    {
     "data": {
      "text/plain": [
       "val receive_cell_text : 'a -> Yojson.Safe.t -> unit = <fun>\n"
      ]
     },
     "execution_count": 54,
     "metadata": {},
     "output_type": "execute_result"
    },
    {
     "data": {
      "text/plain": [
       "val target : Jupyter_comm.Manager.Target.t = <abstr>\n"
      ]
     },
     "execution_count": 54,
     "metadata": {},
     "output_type": "execute_result"
    },
    {
     "data": {
      "text/plain": [
       "val disp : string -> Jupyter_notebook.display_id = <fun>\n"
      ]
     },
     "execution_count": 54,
     "metadata": {},
     "output_type": "execute_result"
    },
    {
     "data": {
      "text/plain": [
       "- : string =\n",
       "\"<script> \\ncomm = Jupyter.notebook.kernel.comm_manager.new_comm('comm-code');\\nvar txt = Jupyter.notebook.get_cell(2).get_text();\\ncomm.send(txt);\\n</script>\"\n"
      ]
     },
     "execution_count": 54,
     "metadata": {},
     "output_type": "execute_result"
    }
   ],
   "source": [
    "let file = ref \"\"\n",
    "\n",
    "(* This function will be called with [json = `String text] when a message is received via a comm from Javascript code. *)\n",
    "let receive_cell_text _ json = \n",
    "  let tmpFile, out = Filename.open_temp_file \"nv\" \"file\" in\n",
    "  let str = Yojson.Safe.to_string json in\n",
    "  let _, str = BatString.replace str \"```ocaml\" \"\" in\n",
    "  let _, str = BatString.replace str \"```\" \"\" in\n",
    "  Printf.fprintf out \"%s\" str;\n",
    "  flush out;\n",
    "  Format.printf \"%s@.\" tmpFile;\n",
    "  file := tmpFile;\n",
    "  Format.printf \"%s@.\" !file\n",
    "  \n",
    "(* Registers a comm for acception of messages from JavaScript code. *)\n",
    "let target = Jupyter_comm.Manager.Target.create \"comm-code\" ~recv_msg:receive_cell_text\n",
    "(* Gets a text of the first cell and sends it to the OCaml kernel. *)\n",
    "let disp = Jupyter_notebook.display \"text/html\"\n",
    "\n",
    "{|<script> \n",
    "comm = Jupyter.notebook.kernel.comm_manager.new_comm('comm-code');\n",
    "var txt = Jupyter.notebook.get_cell(2).get_text();\n",
    "comm.send(txt);\n",
    "</script>|} "
   ]
  }
 ],
 "metadata": {
  "kernelspec": {
   "display_name": "OCaml default",
   "language": "OCaml",
   "name": "ocaml-jupyter"
  },
  "language_info": {
   "codemirror_mode": "text/x-ocaml",
   "file_extension": ".ml",
   "mimetype": "text/x-ocaml",
   "name": "OCaml",
   "nbconverter_exporter": null,
   "pygments_lexer": "OCaml",
   "version": "4.07.1"
  }
 },
 "nbformat": 4,
 "nbformat_minor": 2
}
