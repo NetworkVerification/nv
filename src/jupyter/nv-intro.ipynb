{
 "cells": [
  {
   "cell_type": "code",
   "execution_count": 1,
   "metadata": {
    "scrolled": true
   },
   "outputs": [
    {
     "name": "stdout",
     "output_type": "stream",
     "text": [
      "- : unit = ()\n",
      "Findlib has been successfully loaded. Additional directives:\n",
      "  #require \"package\";;      to load a package\n",
      "  #list;;                   to list the available packages\n",
      "  #camlp4o;;                to load camlp4 (standard syntax)\n",
      "  #camlp4r;;                to load camlp4 (revised syntax)\n",
      "  #predicates \"p,q,...\";;   to set these predicates\n",
      "  Topfind.reset();;         to force that packages will be reloaded\n",
      "  #thread;;                 to enable threads\n",
      "\n",
      "- : unit = ()\n"
     ]
    },
    {
     "name": "stderr",
     "output_type": "stream",
     "text": [
      "/opt/local/lib/ocaml/threads: added to search path\n",
      "/opt/local/lib/ocaml/unix.cma: loaded\n",
      "/opt/local/lib/ocaml/threads/threads.cma: loaded\n",
      "/Users/gian/.opam/default/lib/num: added to search path\n",
      "/Users/gian/.opam/default/lib/num/nums.cma: loaded\n",
      "/Users/gian/.opam/default/lib/num-top: added to search path\n",
      "/Users/gian/.opam/default/lib/num-top/num_top.cma: loaded\n",
      "/opt/local/lib/ocaml/bigarray.cma: loaded\n",
      "/opt/local/lib/ocaml/str.cma: loaded\n",
      "/Users/gian/.opam/default/lib/bytes: added to search path\n",
      "/Users/gian/.opam/default/lib/batteries: added to search path\n",
      "/Users/gian/.opam/default/lib/batteries/batteries.cma: loaded\n",
      "/Users/gian/.opam/default/lib/batteries/batteriesConfig.cmo: loaded\n",
      "/Users/gian/.opam/default/lib/batteries/batteriesHelp.cmo: loaded\n",
      "/Users/gian/.opam/default/lib/batteries/batteriesPrint.cmo: loaded\n",
      "/Users/gian/.opam/default/lib/batteries/batteriesThread.cma: loaded\n",
      "/Users/gian/.opam/default/lib/batteries/batteriesThread.cma: loaded\n",
      "/Users/gian/.opam/default/lib/cudd: added to search path\n",
      "/Users/gian/.opam/default/lib/cudd/cudd.cma: loaded\n",
      "/Users/gian/.opam/default/lib/integers: added to search path\n",
      "/Users/gian/.opam/default/lib/integers/integers.cma: loaded\n",
      "/Users/gian/.opam/default/lib/result: added to search path\n",
      "/Users/gian/.opam/default/lib/result/result.cma: loaded\n",
      "/Users/gian/.opam/default/lib/ppx_deriving/runtime: added to search path\n",
      "/Users/gian/.opam/default/lib/ppx_deriving/runtime/ppx_deriving_runtime.cma: loaded\n",
      "/Users/gian/.opam/default/lib/ppx_deriving_yojson/runtime: added to search path\n",
      "/Users/gian/.opam/default/lib/ppx_deriving_yojson/runtime/ppx_deriving_yojson_runtime.cma: loaded\n",
      "/Users/gian/.opam/default/lib/uuidm: added to search path\n",
      "/Users/gian/.opam/default/lib/uuidm/uuidm.cma: loaded\n",
      "/Users/gian/.opam/default/lib/easy-format: added to search path\n",
      "/Users/gian/.opam/default/lib/easy-format/easy_format.cma: loaded\n",
      "/Users/gian/.opam/default/lib/biniou: added to search path\n",
      "/Users/gian/.opam/default/lib/biniou/biniou.cma: loaded\n",
      "/Users/gian/.opam/default/lib/yojson: added to search path\n",
      "/Users/gian/.opam/default/lib/yojson/yojson.cma: loaded\n",
      "/Users/gian/.opam/default/lib/jupyter: added to search path\n",
      "/Users/gian/.opam/default/lib/jupyter/jupyter.cma: loaded\n",
      "/Users/gian/.opam/default/lib/base64: added to search path\n",
      "/Users/gian/.opam/default/lib/base64/base64.cma: loaded\n",
      "/opt/local/lib/ocaml/compiler-libs: added to search path\n",
      "/opt/local/lib/ocaml/compiler-libs/ocamlcommon.cma: loaded\n",
      "/Users/gian/.opam/default/lib/jupyter/notebook: added to search path\n",
      "/Users/gian/.opam/default/lib/jupyter/notebook/jupyter_notebook.cma: loaded\n",
      "/Users/gian/.opam/default/lib/jupyter/comm: added to search path\n",
      "/Users/gian/.opam/default/lib/jupyter/comm/jupyter_comm.cma: loaded\n",
      "/Users/gian/.opam/default/lib/seq: added to search path\n",
      "/Users/gian/.opam/default/lib/lwt: added to search path\n",
      "/Users/gian/.opam/default/lib/lwt/lwt.cma: loaded\n",
      "/Users/gian/.opam/default/lib/mmap: added to search path\n",
      "/Users/gian/.opam/default/lib/mmap/mmap.cma: loaded\n",
      "/Users/gian/.opam/default/lib/ocplib-endian: added to search path\n",
      "/Users/gian/.opam/default/lib/ocplib-endian/bigstring.cma: loaded\n",
      "/Users/gian/.opam/default/lib/lwt/unix: added to search path\n",
      "/Users/gian/.opam/default/lib/lwt/unix/lwt_unix.cma: loaded\n",
      "/Users/gian/.opam/default/lib/lwt_ppx: added to search path\n",
      "/Users/gian/.opam/default/lib/lwt_ppx/./ppx.exe --as-ppx: activated\n",
      "/Users/gian/.opam/default/lib/lru-cache: added to search path\n",
      "/Users/gian/.opam/default/lib/lru-cache/lru-cache.cma: loaded\n",
      "/Users/gian/.opam/default/lib/findlib: added to search path\n",
      "/Users/gian/.opam/default/lib/findlib/findlib.cma: loaded\n",
      "/Users/gian/.opam/default/lib/findlib/findlib_top.cma: loaded\n",
      "/opt/local/lib/ocaml/dynlink.cma: loaded\n",
      "/Users/gian/.opam/default/lib/findlib/findlib_dynload.cma: loaded\n",
      "/Users/gian/.opam/default/lib/fix: added to search path\n",
      "/Users/gian/.opam/default/lib/fix/fix.cma: loaded\n",
      "/Users/gian/.opam/default/lib/nv_lib/utils: added to search path\n",
      "/Users/gian/.opam/default/lib/nv_lib/utils/nv_utils.cma: loaded\n",
      "/Users/gian/.opam/default/lib/ocamlgraph: added to search path\n",
      "/Users/gian/.opam/default/lib/ocamlgraph/graph.cma: loaded\n",
      "/Users/gian/.opam/default/lib/zarith: added to search path\n",
      "/Users/gian/.opam/default/lib/zarith/zarith.cma: loaded\n",
      "/Users/gian/.opam/default/lib/nv_lib/datastructures: added to search path\n",
      "/Users/gian/.opam/default/lib/nv_lib/datastructures/nv_datastructures.cma: loaded\n",
      "/Users/gian/.opam/default/lib/ANSITerminal: added to search path\n",
      "/Users/gian/.opam/default/lib/ANSITerminal/ANSITerminal.cma: loaded\n",
      "/Users/gian/.opam/default/lib/stdlib-shims: added to search path\n",
      "/Users/gian/.opam/default/lib/stdlib-shims/stdlib_shims.cma: loaded\n",
      "/Users/gian/.opam/default/lib/fileutils: added to search path\n",
      "/Users/gian/.opam/default/lib/fileutils/fileutils.cma: loaded\n",
      "/Users/gian/.opam/default/lib/nv_lib/lang: added to search path\n",
      "/Users/gian/.opam/default/lib/nv_lib/lang/nv_lang.cma: loaded\n",
      "/Users/gian/.opam/default/lib/nv_lib/interpreter: added to search path\n",
      "/Users/gian/.opam/default/lib/nv_lib/interpreter/nv_interpreter.cma: loaded\n",
      "/Users/gian/.opam/default/lib/nv_lib/solution: added to search path\n",
      "/Users/gian/.opam/default/lib/nv_lib/solution/nv_solution.cma: loaded\n",
      "/Users/gian/.opam/default/lib/nv_lib/compile: added to search path\n",
      "/Users/gian/.opam/default/lib/nv_lib/compile/nv_compile.cma: loaded\n",
      "/Users/gian/.opam/default/lib/parmap: added to search path\n",
      "/Users/gian/.opam/default/lib/parmap/parmap.cma: loaded\n",
      "/Users/gian/.opam/default/lib/nv_lib/transformations: added to search path\n",
      "/Users/gian/.opam/default/lib/nv_lib/transformations/nv_transformations.cma: loaded\n",
      "/Users/gian/.opam/default/lib/nv_lib/compression: added to search path\n",
      "/Users/gian/.opam/default/lib/nv_lib/compression/nv_compression.cma: loaded\n",
      "/Users/gian/.opam/default/lib/nv_lib/smt: added to search path\n",
      "/Users/gian/.opam/default/lib/nv_lib/smt/nv_smt.cma: loaded\n",
      "/Users/gian/.opam/default/lib/nv_lib: added to search path\n",
      "/Users/gian/.opam/default/lib/nv_lib/nv_lib.cma: loaded\n",
      "/Users/gian/.opam/default/lib/ppx_deriving: added to search path\n",
      "/Users/gian/.opam/default/lib/ppx_deriving/./ppx_deriving: activated\n",
      "/Users/gian/.opam/default/lib/ppx_deriving_yojson: added to search path\n",
      "ppx_deriving: package:ppx_deriving_yojson: option added\n",
      "/Users/gian/.opam/default/lib/nv_jupyter: added to search path\n",
      "/Users/gian/.opam/default/lib/nv_jupyter/nv_jupyter.cma: loaded\n"
     ]
    },
    {
     "data": {
      "text/html": [
       "<script>\n",
       "Jupyter.notebook.kernel.comm_manager.register_target('comm-code', function(comm, msg){\n",
       "  comm.on_msg(function (msg) {\n",
       "        var cell_element = Jupyter.notebook.get_selected_cell()\n",
       "        var index = Jupyter.notebook.find_cell_index(cell_element)\n",
       "        console.log(index);\n",
       "    comm.send(Jupyter.notebook.get_cell(index-2).get_text());\n",
       "  });\n",
       "});\n",
       "</script>"
      ]
     },
     "metadata": {},
     "output_type": "display_data"
    },
    {
     "name": "stderr",
     "output_type": "stream",
     "text": [
      "/Users/gian/.opam/default/lib/result: added to search path\n",
      "/Users/gian/.opam/default/lib/ppx_deriving/runtime: added to search path\n",
      "/Users/gian/.opam/default/lib/ppx_deriving_yojson/runtime: added to search path\n",
      "/Users/gian/.opam/default/lib/bytes: added to search path\n",
      "/Users/gian/.opam/default/lib/uuidm: added to search path\n",
      "/Users/gian/.opam/default/lib/easy-format: added to search path\n",
      "/Users/gian/.opam/default/lib/biniou: added to search path\n",
      "/Users/gian/.opam/default/lib/yojson: added to search path\n",
      "/Users/gian/.opam/default/lib/jupyter: added to search path\n",
      "/Users/gian/.opam/default/lib/base64: added to search path\n",
      "/opt/local/lib/ocaml/compiler-libs: added to search path\n",
      "/Users/gian/.opam/default/lib/jupyter/notebook: added to search path\n",
      "/Users/gian/.opam/default/lib/jupyter/comm: added to search path\n"
     ]
    }
   ],
   "source": [
    "#use \"topfind\";;\n",
    "#thread;;\n",
    "#require \"nv_jupyter\"\n",
    "#require \"jupyter\"\n",
    "#require \"jupyter.notebook\"\n",
    "#require \"jupyter.comm\"\n",
    "open Nv_jupyter.Driver;;\n",
    "open Nv_jupyter.Show;;\n",
    "open Nv_solution;;"
   ]
  },
  {
   "cell_type": "markdown",
   "metadata": {},
   "source": [
    "![NV Pipeline](pipeline.png)\n",
    "\n",
    "# An intermediate language for network verification\n",
    "\n",
    "NV is a functional language designed for modelling and verification of a network's routing behavior. Some of the design goals for NV are:\n",
    "* Expressiveness. One should be able to express the semantics of common routing protocols such as BGP in a sufficiently detailed manner. At the same time, one should be able to express abstractions of protocols that are useful for verification.\n",
    "* Tractable. NV's language constructs and semantics are chosen in a fashion that enables efficient verification, either through execution or using SMT solvers.\n",
    "* Compact language, well-defined semantics. Having a small language, with conventional and hence well understood semantics simplifies rapid development and the maintenance of analyses.\n",
    "\n",
    "## Modelling the control plane\n",
    "\n",
    "To learn how to route traffic to different destinations (typically, IP prefixes) routers often rely on distributed routing protocols. According to these protocols, routers exchange *routing messages* (aka routes) containing information about a path to a given destination. Eventually, each router will select the *best* route among the ones it received; the route ranking algorithm depends on the protocol.\n",
    "\n",
    "To define how a protocol works, one has to define the ingridients above:\n",
    "1. The type (i.e. the components) of the routing messages exchanged\n",
    "2. A *transfer function* defining how routes are transformed as they are propagated through the network.\n",
    "3. A *merge function* defining how a router compares two routes to select the best one.\n",
    "\n",
    "For instance, we can model BGP routes for a single destination as an optional record of 5 components. Lack of a value denotes the lack of a route. In the simple case, BGP will just increment the path length by 1. To implement more sophisticated routing policy a user may apply different changes to a route for each edge in the network.\n",
    "\n",
    "The merge function simple selects the best route according to BGP's specification (i.e. higher local-pref, then shortest path, then lower med).\n",
    "\n",
    "Below is an example of an NV program representing a hijack analysis over a network running BGP. In this network, node 4 (the purple node) announces a symbolic (i.e. an unknown) route and we want to see whether it can drive traffic away from the blue nodes which represent our network.\n",
    "![Hijack Network](hijack.png)"
   ]
  },
  {
   "cell_type": "markdown",
   "metadata": {},
   "source": [
    "```ocaml\n",
    "type bgp = {length:int;\n",
    "            lp:int;\n",
    "            med:int;\n",
    "            comms:set[int];\n",
    "            origin: tnode}\n",
    "\n",
    "type attribute = option[bgp]\n",
    "\n",
    "let nodes = 5\n",
    "let edges = {0=1;0=2;1=4;2=4;1=3;2=3;}\n",
    "\n",
    "symbolic route : option[bgp]\n",
    "\n",
    "let init (u : tnode) = match u with\n",
    "| 0n -> Some {length=0; lp=100; med=80; comms={}; origin=0n}\n",
    "| 4n -> route\n",
    "| _ -> None\n",
    "\n",
    "let trans (e: tedge) x =\n",
    "  match x with\n",
    "  | None -> None\n",
    "  | Some b -> Some {b with length = b.length+1}\n",
    "\n",
    "let isBetter x y =\n",
    "  match (x,y) with\n",
    "  | (None, _) -> false\n",
    "  | (_, None) -> true\n",
    "  | (Some b1, Some b2) ->\n",
    "    if b1.lp > b2.lp then true\n",
    "    else if b2.lp > b1.lp then false\n",
    "    else if b1.length < b2.length then true\n",
    "    else if b2.length < b1.length then false\n",
    "    else if b1.med <= b2.med then true else false\n",
    "\n",
    "let merge (u: tnode) x y =\n",
    "  if isBetter x y then x else y\n",
    "\n",
    "let assert (u : tnode) x =\n",
    "  match x with\n",
    "  | None -> false\n",
    "  | Some b -> if !(u = 4n) then b.origin = 0n else true\n",
    "\n",
    "```"
   ]
  },
  {
   "cell_type": "code",
   "execution_count": 2,
   "metadata": {},
   "outputs": [
    {
     "data": {
      "text/plain": [
       "- : unit = ()\n"
      ]
     },
     "execution_count": 2,
     "metadata": {},
     "output_type": "execute_result"
    }
   ],
   "source": [
    "let _ = loadNetwork ()"
   ]
  },
  {
   "cell_type": "code",
   "execution_count": 3,
   "metadata": {},
   "outputs": [
    {
     "data": {
      "text/plain": [
       "val bgpFile : string =\n",
       "  \"/var/folders/4x/l5qrl7s17x135nls9r3vxsgw0000gn/T/nv5ce7d6file\"\n"
      ]
     },
     "execution_count": 3,
     "metadata": {},
     "output_type": "execute_result"
    }
   ],
   "source": [
    "let bgpFile = createSrp ()"
   ]
  },
  {
   "cell_type": "markdown",
   "metadata": {},
   "source": [
    "### Using SMT solvers for exhaustive verification\n",
    "\n",
    "The NV simulator did not find a counterexample in the above case.\n",
    "However, that does not mean that our network is \"safe\". In the presence of \"unknown\" factors, such as routes from external peers, verification is best done using an SMT-based approach. In this case, we will verify that the assertion holds against any possible route announced by node 4."
   ]
  },
  {
   "cell_type": "code",
   "execution_count": 4,
   "metadata": {},
   "outputs": [
    {
     "name": "stdout",
     "output_type": "stream",
     "text": [
      "Processing /var/folders/4x/l5qrl7s17x135nls9r3vxsgw0000gn/T/nv5ce7d6file\n",
      "Inlining took: 0.000579 secs to complete\n",
      "Map unrolling took: 0.001209 secs to complete\n",
      "Inlining took: 0.000148 secs to complete\n",
      "Unbox options took: 0.000295 secs to complete\n",
      "Flattening Tuples took: 0.001139 secs to complete\n",
      "Partially Evaluating Network took: 0.001427 secs to complete\n",
      "Encoding network took: 0.075624 secs to complete\n",
      "Compiling query took: 0.005585 secs to complete\n",
      "Z3 stats:\n",
      "  :memory              3.39\n",
      " :time                0.03)\n",
      "Slice 0 took: 0.220743 secs to complete\n"
     ]
    },
    {
     "data": {
      "text/plain": [
       "val bgpSol : Nv_solution.Solution.t option =\n",
       "  Some\n",
       "   {Nv_solution.Solution.symbolics = <abstr>; labels = <abstr>;\n",
       "    assertions = Some <abstr>; mask = None}\n"
      ]
     },
     "execution_count": 4,
     "metadata": {},
     "output_type": "execute_result"
    },
    {
     "data": {
      "text/html": [
       "<table style=\"border: 1px solid black; border-collapse: collapse;\"><tr style=\"text-align: center; border: 1px solid black; border-collapse: collapse;\"><th style=\"text-align: center; border: 1px solid black; border-collapse: collapse;\">Symbolic</th><th style=\"text-align: center; border: 1px solid black; border-collapse: collapse;\">Concrete Value</th></tr><tr style=\"text-align: center; border: 1px solid black; border-collapse: collapse;\"><td style=\"text-align: center; border: 1px solid black; border-collapse: collapse;\">route</td><td style=\"text-align: center; border: 1px solid black; border-collapse: collapse;\">Some {comms = {}; length = 0u32; lp = 100u32; med = 80u32; origin = 8366u32; }</td></tr></table><table style=\"border: 1px solid black; border-collapse: collapse;\"><tr style=\"text-align: center; border: 1px solid black; border-collapse: collapse;\"><th style=\"text-align: center; border: 1px solid black; border-collapse: collapse;\">Assertion</th><th style=\"text-align: center; border: 1px solid black; border-collapse: collapse;\">Nodes</th></tr><tr style=\"background-color: #addeaa;\"><td style=\"text-align: center; border: 1px solid black; border-collapse: collapse;\">Passed</td><td style=\"text-align: center; border: 1px solid black; border-collapse: collapse;\">0,4</td></tr><tr style=\"background-color: #deaeaa;\"><td style=\"text-align: center; border: 1px solid black; border-collapse: collapse;\">Failed</td><td style=\"text-align: center; border: 1px solid black; border-collapse: collapse;\">1,2,3</td></tr></table>"
      ]
     },
     "metadata": {},
     "output_type": "display_data"
    },
    {
     "data": {
      "text/plain": [
       "- : Jupyter_notebook.display_id = <abstr>\n"
      ]
     },
     "execution_count": 4,
     "metadata": {},
     "output_type": "execute_result"
    }
   ],
   "source": [
    "let bgpSol = computeFile [|\"-inline\";\"-smt\"; |] bgpFile\n",
    "let _ = checkAssertions bgpSol"
   ]
  },
  {
   "cell_type": "markdown",
   "metadata": {},
   "source": [
    "We can also display the solutions the SMT solver computed to better understand what's going on."
   ]
  },
  {
   "cell_type": "code",
   "execution_count": 7,
   "metadata": {},
   "outputs": [
    {
     "data": {
      "text/html": [
       "<table style=\"border: 1px solid black; border-collapse: collapse;\"><tr style=\"text-align: center; border: 1px solid black; border-collapse: collapse;\"><th style=\"text-align: center; border: 1px solid black; border-collapse: collapse;\">Node</th><th style=\"text-align: center; border: 1px solid black; border-collapse: collapse;\">Solution</th></tr><tr style=\"text-align: center; border: 1px solid black; border-collapse: collapse;\"><td style=\"text-align: center; border: 1px solid black; border-collapse: collapse;\">0</td><td style=\"text-align: center; border: 1px solid black; border-collapse: collapse;\">Some {comms = {}; length = 0u32; lp = 100u32; med = 80u32; origin = 0u32; }</td></tr><tr style=\"text-align: center; border: 1px solid black; border-collapse: collapse;\"><td style=\"text-align: center; border: 1px solid black; border-collapse: collapse;\">1</td><td style=\"text-align: center; border: 1px solid black; border-collapse: collapse;\">Some {comms = {}; length = 1u32; lp = 100u32; med = 80u32; origin = 8366u32; }</td></tr><tr style=\"text-align: center; border: 1px solid black; border-collapse: collapse;\"><td style=\"text-align: center; border: 1px solid black; border-collapse: collapse;\">2</td><td style=\"text-align: center; border: 1px solid black; border-collapse: collapse;\">Some {comms = {}; length = 1u32; lp = 100u32; med = 80u32; origin = 8366u32; }</td></tr><tr style=\"text-align: center; border: 1px solid black; border-collapse: collapse;\"><td style=\"text-align: center; border: 1px solid black; border-collapse: collapse;\">3</td><td style=\"text-align: center; border: 1px solid black; border-collapse: collapse;\">Some {comms = {}; length = 2u32; lp = 100u32; med = 80u32; origin = 8366u32; }</td></tr><tr style=\"text-align: center; border: 1px solid black; border-collapse: collapse;\"><td style=\"text-align: center; border: 1px solid black; border-collapse: collapse;\">4</td><td style=\"text-align: center; border: 1px solid black; border-collapse: collapse;\">Some {comms = {}; length = 0u32; lp = 100u32; med = 80u32; origin = 8366u32; }</td></tr></table>"
      ]
     },
     "metadata": {},
     "output_type": "display_data"
    },
    {
     "data": {
      "text/plain": [
       "- : Jupyter_notebook.display_id = <abstr>\n"
      ]
     },
     "execution_count": 7,
     "metadata": {},
     "output_type": "execute_result"
    }
   ],
   "source": [
    "showSolutions ~asTable:true bgpSol"
   ]
  },
  {
   "cell_type": "markdown",
   "metadata": {},
   "source": [
    "### Routing to multiple destinations"
   ]
  },
  {
   "cell_type": "markdown",
   "metadata": {},
   "source": [
    "```ocaml\n",
    "type rib = dict[prefix,route]\n",
    "```"
   ]
  },
  {
   "cell_type": "markdown",
   "metadata": {},
   "source": [
    "The above model of BGP represents a single route. In practice, routers forward traffic to multiple destinations, potentially using different routes. To accommodate this, NV provides a dictionary/map construct. But, its the semantics and implementation of maps in NV that makes them more than a simple mechanism to represent collections of values. Somewhat unconventional, NV maps are total maps; this choice enabled novel implementations in the simulator (as Multi-Terminal Binary Decision Diagrams) and in the SMT backend (by statically unrolling the maps).\n",
    "Focusing on the simulator, the advantage of using MTBDDs to represent maps is that they enable efficient representation of large maps and processing their values in bulk, as common values are represented by a single node in the decision diagram. In the context of routing, this allows us to perform fast simulation of the network, as routers often keep track of a small set of routes to thousands of destinations. For more details see our paper on NV."
   ]
  },
  {
   "cell_type": "markdown",
   "metadata": {},
   "source": [
    "### Novel analyses as meta-routing protocols\n",
    "\n",
    "One of the strenghts of NV is the flexibility it offers. Existing tools either try to model routing protocols as faithfully as possible, or create a limited set of ad-hoc abstractions that would require further engineering to compose with each other.\n",
    "On the other hand, in NV a protocol is expressed as a typed program ---which can be naturally composed--- and no additional changes are required to simulate or verify using SMT. Additionally, an NV program is not necessarily modelling a routing protocol. In just a few lines of NV code, we implement a fault tolerance analysis that is exhaustive, can handle any protocol expressible in NV, and scales beyond the current state-of-the-art. \n",
    "Our analysis leverages the MTBDD based implementation of maps in NV; the key insight is that different failure scenarios have the same effect on the routes computed by each node and hence they don't need to be processed separately. \n",
    "\n",
    "![FatTree Network](fattree.png)\n",
    "\n",
    "Networks usually have layers of redundancy to cope with failures: when routing towards the purple node, a single failure will not affect the routing of ToR nodes in the above FatTree because there is always an alternative. Similarly, two link failures in a pod will only affect the routing within that pod (and it will do so in the same way for any pod!). Exploiting such symmetries is very important for scaling fault tolerance analyses, but unfortunately, in most cases they cannot be done statically (i.e. without solving the routing problem). MTBDDs allow us to automatically \"fuse\" the process of figuring out these symmetries and computing the routing problem.\n",
    "Here is the implementation as an NV program:\n",
    "\n",
    "```ocaml\n",
    "type bgp = option[...]\n",
    "type attribute = map[tedge, bgp]\n",
    "\n",
    "let init u = createDict (fun e -> initBgp u)\n",
    "\n",
    "let trans e x = mapIte (fun e' -> e = e') (fun v -> None) (fun v -> transBgp e' v) x\n",
    "\n",
    "let merge u x y = combine (mergeBgp u) x y\n",
    "```\n",
    "\n",
    "And that's it! In this \"meta-protocol\", the attribute represents single-link \"failure scenarios\". The initial route for every scenario is the initial route of the underlying protocol analyzed (say an instance of BGP) as link failures do not affect the routes announced by each node.\n",
    "The transfer function is where all the magic happens: to transmit an attribute over an edge, we map one of two functions over our \"failure scenarios\" map. If the key of the map corresponds to the edge over which we are transmitting then the function applied is the one that returns the constant ```None``` (denoting no route). Otherwise, we just use the transfer function of the underlying protocol. \n",
    "\n",
    "![MTBDD Fault Tolerance Evaluation](fault-eval.png)\n"
   ]
  },
  {
   "cell_type": "markdown",
   "metadata": {},
   "source": [
    "# Future work (in progress)\n",
    "## Modelling the data plane\n",
    "\n",
    "Beyond the control plane, it would be interesting to model other parts of the networking stack and compose the analyses to provide stronger end-to-end guarantees. Towards this goal, we are working on building a model of the dataplane as well.\n",
    "\n",
    "We start with a basic model of the dataplane as an instance of the stable paths problem. In this instance of SPP:\n",
    "- The type of \"information\" exchanged is sets of packets. \n",
    "- A packet is forwarded over an edge if: 1. according to the FIB of the node, this edge is the forwarding edge for the packet's destination, 2. there are no ACLs installed that prevent forwarding this packet. \n",
    "- Merging the information received from two different nodes simple amounts to taking the union of the sets.\n",
    "\n",
    "The above SPP essentially computes for each node the packets that traversed it.\n",
    "\n",
    "```ocaml\n",
    "type prefix = (int,int)\n",
    "type packet = {srcIp:prefix; dstIp:prefix}\n",
    "type attribute = set[packet]\n",
    "\n",
    "symbolic fib : ...\n",
    "\n",
    "let trans e ps = \n",
    "  mapIte (fun p -> isForwarding e fib p.dstIp) (fun v -> true) (fun v -> false) ps\n",
    "  \n",
    "let merge u xs ys = xs union ys\n",
    "```\n",
    "\n",
    "A working example is provided below."
   ]
  },
  {
   "cell_type": "markdown",
   "metadata": {},
   "source": [
    "```ocaml\n",
    "\n",
    "type prefix = (int,int)\n",
    "\n",
    "type bgp = { nexthop: option[tedge];\n",
    "             bgpad : int;\n",
    "             lp : int;\n",
    "             cost : int; }\n",
    "type ribEntry = option[bgp]\n",
    "\n",
    "type packet = { srcIp: int; dstIp: int; }\n",
    "type packets = set[packet]\n",
    "\n",
    "type attr = {dataplane:packets; controlplane:dict[prefix,ribEntry];}\n",
    "type attribute = attr\n",
    "\n",
    "let nodes = 4\n",
    "\n",
    "let edges = {\n",
    "  0=1;\n",
    "  0=2;\n",
    "  1=3;\n",
    "  2=3;\n",
    " }\n",
    "\n",
    "(* Data Plane functions *)\n",
    "let mergePackets node x y = x union y\n",
    "\n",
    "(* longestMatchingPrefix, should check whether p's headers match an\n",
    "   entry in the rib and whether edge is the forwarding edge on that rib *)\n",
    "let longestMatchingPrefix edge p rib =\n",
    "  let dst = p.dstIp in\n",
    "  match rib[(dst,32)] with\n",
    "  | None -> false (*repeat 32 times...*)\n",
    "  | Some route ->\n",
    "    (match route.nexthop with\n",
    "    | None -> false\n",
    "    | Some fwd ->\n",
    "     fwd = edge)\n",
    "\n",
    "(* filter the set of packets *)\n",
    "let transPackets edge rib ps =\n",
    "  mapIf (fun p -> !(longestMatchingPrefix edge p rib)) (fun b -> false) ps\n",
    "\n",
    "let initPackets node =\n",
    "  match node with\n",
    "  | 3n -> {{ srcIp = 1; dstIp=0; }}\n",
    "  | _ -> {}\n",
    "\n",
    "let flipEdge e =\n",
    "  match e with\n",
    "  | a~b -> toEdge b a\n",
    "\n",
    "let transRoute edge b =\n",
    "    match b with\n",
    "    | None -> None\n",
    "    | Some b ->\n",
    "         Some ({nexthop= flipEdge edge; cost = b.cost + 1; bgpad=b.bgpad; lp=b.lp})\n",
    "\n",
    "(* bgp attributes comparison *)\n",
    "let betterBgp o1 o2 =\n",
    "  if o1.lp > o2.lp then true\n",
    "  else if o2.lp > o1.lp then false\n",
    "  else if o1.cost < o2.cost then true\n",
    "  else false\n",
    "\n",
    "let pickOption f x y =\n",
    "  match (x,y) with\n",
    "  | (None, None) -> None\n",
    "  | (None, Some _) -> y  | (Some _, None) -> x\n",
    "  | (Some a, Some b) ->\n",
    "    Some (if f a b then a else b)\n",
    "\n",
    "let mergeRoute lab1 lab2 =\n",
    "  pickOption (fun x y -> betterBgp x y) lab1 lab2\n",
    "\n",
    "let initRoute node =\n",
    "  let d = createDict None in\n",
    "  match node with\n",
    "  | 0n ->\n",
    "     let b0 = {nexthop=None; bgpad=20; lp=100; cost=0;} in\n",
    "     d[(0,32) := Some b0]\n",
    "  | _ -> d\n",
    "\n",
    "(* Combined functions *)\n",
    "\n",
    "let merge node x y =\n",
    "  let psx = x.dataplane in\n",
    "  let psy = y.dataplane in\n",
    "  let labx = x.controlplane in\n",
    "  let laby = y.controlplane in\n",
    "  {dataplane=mergePackets node psx psy;\n",
    "   controlplane=combine mergeRoute labx laby}\n",
    "\n",
    "let trans edge x =\n",
    "  let ps = x.dataplane in\n",
    "  let rib = x.controlplane in\n",
    "  {dataplane = transPackets edge rib ps;\n",
    "   controlplane = map (transRoute edge) rib}\n",
    "\n",
    "let init node =\n",
    "  {dataplane = initPackets node;\n",
    "   controlplane = initRoute node}\n",
    "\n",
    "let assert node x =\n",
    "  match node with\n",
    "  | 1n ->\n",
    "     (\n",
    "       let ps = x.dataplane in\n",
    "       match ps[{ srcIp = 1; dstIp=0; }] with\n",
    "       | true ->\n",
    "          true\n",
    "       | false -> false)\n",
    "  | _ -> true\n",
    "```"
   ]
  },
  {
   "cell_type": "code",
   "execution_count": 14,
   "metadata": {},
   "outputs": [
    {
     "data": {
      "text/plain": [
       "- : unit = ()\n"
      ]
     },
     "execution_count": 14,
     "metadata": {},
     "output_type": "execute_result"
    }
   ],
   "source": [
    "let _ = loadNetwork ()"
   ]
  },
  {
   "cell_type": "code",
   "execution_count": 15,
   "metadata": {},
   "outputs": [
    {
     "data": {
      "text/plain": [
       "val dataplaneExample : string =\n",
       "  \"/var/folders/4x/l5qrl7s17x135nls9r3vxsgw0000gn/T/nv79d51efile\"\n"
      ]
     },
     "execution_count": 15,
     "metadata": {},
     "output_type": "execute_result"
    },
    {
     "name": "stdout",
     "output_type": "stream",
     "text": [
      "Processing /var/folders/4x/l5qrl7s17x135nls9r3vxsgw0000gn/T/nv79d51efile\n",
      "Inlining took: 0.001865 secs to complete\n",
      "Interpreted simulation took: 0.016167 secs to complete\n"
     ]
    },
    {
     "data": {
      "text/plain": [
       "val dataplaneSol : Nv_solution.Solution.t option =\n",
       "  Some\n",
       "   {Nv_solution.Solution.symbolics = <abstr>; labels = <abstr>;\n",
       "    assertions = Some <abstr>; mask = None}\n"
      ]
     },
     "execution_count": 15,
     "metadata": {},
     "output_type": "execute_result"
    }
   ],
   "source": [
    "let dataplaneExample = createSrp () \n",
    "let dataplaneSol = computeFile [|\"-inline\";\"-simulate\"|] dataplaneExample"
   ]
  },
  {
   "cell_type": "code",
   "execution_count": 16,
   "metadata": {},
   "outputs": [
    {
     "data": {
      "text/html": [
       "<font color=\"green\">All assertions passed!</font>"
      ]
     },
     "metadata": {},
     "output_type": "display_data"
    },
    {
     "data": {
      "text/plain": [
       "- : Jupyter_notebook.display_id = <abstr>\n"
      ]
     },
     "execution_count": 16,
     "metadata": {},
     "output_type": "execute_result"
    },
    {
     "data": {
      "text/html": [
       "<h3>Node 0</h3> <hr style=\"border-top: 1px solid #999; width=90%;\"><table style=\"border: 1px solid black; border-collapse: collapse;\"><tr style=\"text-align: center; border: 1px solid black; border-collapse: collapse;\"><th style=\"text-align: center; border: 1px solid black; border-collapse: collapse;\">controlplane</th><th style=\"text-align: center; border: 1px solid black; border-collapse: collapse;\">dataplane</th></tr><tr style=\"text-align: center; border: 1px solid black; border-collapse: collapse;\"><td style=\"text-align: center; border: 1px solid black; border-collapse: collapse;\"><table style=\"border: 1px solid black; border-collapse: collapse;\"><tr style=\"text-align: center; border: 1px solid black; border-collapse: collapse;\"><td style=\"text-align: center; border: 1px solid black; border-collapse: collapse;\">(0u32,32u32)</td><td style=\"text-align: center; border: 1px solid black; border-collapse: collapse;\">Some {bgpad = 20u32; cost = 0u32; lp = 100u32; nexthop = None; }</td></tr><tr style=\"text-align: center; border: 1px solid black; border-collapse: collapse;\"><td style=\"text-align: center; border: 1px solid black; border-collapse: collapse;\">*</td><td style=\"text-align: center; border: 1px solid black; border-collapse: collapse;\">None</td></tr></table></td><td style=\"text-align: center; border: 1px solid black; border-collapse: collapse;\">{(0u32,1u32)}</td></tr></table><h3>Node 1</h3> <hr style=\"border-top: 1px solid #999; width=90%;\"><table style=\"border: 1px solid black; border-collapse: collapse;\"><tr style=\"text-align: center; border: 1px solid black; border-collapse: collapse;\"><th style=\"text-align: center; border: 1px solid black; border-collapse: collapse;\">controlplane</th><th style=\"text-align: center; border: 1px solid black; border-collapse: collapse;\">dataplane</th></tr><tr style=\"text-align: center; border: 1px solid black; border-collapse: collapse;\"><td style=\"text-align: center; border: 1px solid black; border-collapse: collapse;\"><table style=\"border: 1px solid black; border-collapse: collapse;\"><tr style=\"text-align: center; border: 1px solid black; border-collapse: collapse;\"><td style=\"text-align: center; border: 1px solid black; border-collapse: collapse;\">(0u32,32u32)</td><td style=\"text-align: center; border: 1px solid black; border-collapse: collapse;\">Some {bgpad = 20u32; cost = 1u32; lp = 100u32; nexthop = Some 1~0; }</td></tr><tr style=\"text-align: center; border: 1px solid black; border-collapse: collapse;\"><td style=\"text-align: center; border: 1px solid black; border-collapse: collapse;\">*</td><td style=\"text-align: center; border: 1px solid black; border-collapse: collapse;\">None</td></tr></table></td><td style=\"text-align: center; border: 1px solid black; border-collapse: collapse;\">{(0u32,1u32)}</td></tr></table><h3>Node 2</h3> <hr style=\"border-top: 1px solid #999; width=90%;\"><table style=\"border: 1px solid black; border-collapse: collapse;\"><tr style=\"text-align: center; border: 1px solid black; border-collapse: collapse;\"><th style=\"text-align: center; border: 1px solid black; border-collapse: collapse;\">controlplane</th><th style=\"text-align: center; border: 1px solid black; border-collapse: collapse;\">dataplane</th></tr><tr style=\"text-align: center; border: 1px solid black; border-collapse: collapse;\"><td style=\"text-align: center; border: 1px solid black; border-collapse: collapse;\"><table style=\"border: 1px solid black; border-collapse: collapse;\"><tr style=\"text-align: center; border: 1px solid black; border-collapse: collapse;\"><td style=\"text-align: center; border: 1px solid black; border-collapse: collapse;\">(0u32,32u32)</td><td style=\"text-align: center; border: 1px solid black; border-collapse: collapse;\">Some {bgpad = 20u32; cost = 1u32; lp = 100u32; nexthop = Some 2~0; }</td></tr><tr style=\"text-align: center; border: 1px solid black; border-collapse: collapse;\"><td style=\"text-align: center; border: 1px solid black; border-collapse: collapse;\">*</td><td style=\"text-align: center; border: 1px solid black; border-collapse: collapse;\">None</td></tr></table></td><td style=\"text-align: center; border: 1px solid black; border-collapse: collapse;\">{}</td></tr></table><h3>Node 3</h3> <hr style=\"border-top: 1px solid #999; width=90%;\"><table style=\"border: 1px solid black; border-collapse: collapse;\"><tr style=\"text-align: center; border: 1px solid black; border-collapse: collapse;\"><th style=\"text-align: center; border: 1px solid black; border-collapse: collapse;\">controlplane</th><th style=\"text-align: center; border: 1px solid black; border-collapse: collapse;\">dataplane</th></tr><tr style=\"text-align: center; border: 1px solid black; border-collapse: collapse;\"><td style=\"text-align: center; border: 1px solid black; border-collapse: collapse;\"><table style=\"border: 1px solid black; border-collapse: collapse;\"><tr style=\"text-align: center; border: 1px solid black; border-collapse: collapse;\"><td style=\"text-align: center; border: 1px solid black; border-collapse: collapse;\">(0u32,32u32)</td><td style=\"text-align: center; border: 1px solid black; border-collapse: collapse;\">Some {bgpad = 20u32; cost = 2u32; lp = 100u32; nexthop = Some 3~1; }</td></tr><tr style=\"text-align: center; border: 1px solid black; border-collapse: collapse;\"><td style=\"text-align: center; border: 1px solid black; border-collapse: collapse;\">*</td><td style=\"text-align: center; border: 1px solid black; border-collapse: collapse;\">None</td></tr></table></td><td style=\"text-align: center; border: 1px solid black; border-collapse: collapse;\">{(0u32,1u32)}</td></tr></table>"
      ]
     },
     "metadata": {},
     "output_type": "display_data"
    },
    {
     "data": {
      "text/plain": [
       "- : Jupyter_notebook.display_id = <abstr>\n"
      ]
     },
     "execution_count": 16,
     "metadata": {},
     "output_type": "execute_result"
    }
   ],
   "source": [
    "let _ = checkAssertions dataplaneSol\n",
    "let _ = showSolutions ~asTable:false dataplaneSol"
   ]
  }
 ],
 "metadata": {
  "kernelspec": {
   "display_name": "OCaml default",
   "language": "OCaml",
   "name": "ocaml-jupyter"
  },
  "language_info": {
   "codemirror_mode": "text/x-ocaml",
   "file_extension": ".ml",
   "mimetype": "text/x-ocaml",
   "name": "OCaml",
   "nbconverter_exporter": null,
   "pygments_lexer": "OCaml",
   "version": "4.07.1"
  }
 },
 "nbformat": 4,
 "nbformat_minor": 2
}
